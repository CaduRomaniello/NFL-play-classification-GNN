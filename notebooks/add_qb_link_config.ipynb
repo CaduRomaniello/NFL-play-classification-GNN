{
 "cells": [
  {
   "cell_type": "code",
   "execution_count": 8,
   "id": "8d915a79",
   "metadata": {},
   "outputs": [],
   "source": [
    "import os\n",
    "import json"
   ]
  },
  {
   "cell_type": "code",
   "execution_count": 9,
   "id": "bbe6e408",
   "metadata": {},
   "outputs": [
    {
     "name": "stdout",
     "output_type": "stream",
     "text": [
      "Current dir: /home/moovz/code/Mestrado\n",
      "Output dir: /home/moovz/code/Mestrado/output/results\n"
     ]
    }
   ],
   "source": [
    "# get the path of one directory above the actual one an then get the reference to ./output/results\n",
    "\n",
    "current_dir = os.path.dirname(os.path.abspath(os.getcwd()))\n",
    "output_dir = os.path.join(current_dir, \"output\", \"results\")\n",
    "print('Current dir:', current_dir)\n",
    "print('Output dir:', output_dir)"
   ]
  },
  {
   "cell_type": "code",
   "execution_count": 16,
   "id": "4d5132ac",
   "metadata": {},
   "outputs": [
    {
     "name": "stdout",
     "output_type": "stream",
     "text": [
      "Root: /home/moovz/code/Mestrado/output/results\n",
      "Dirs: ['MST', 'QB-CLOSEST-', 'CLOSEST-', 'DELAUNAY', 'GABRIEL', 'first_tests', 'RNG']\n",
      "Files: []\n",
      "Dir: MST\n",
      "File: training_results_20251009_032334.json\n",
      "Processing file: /home/moovz/code/Mestrado/output/results/MST/training_results_20251009_032334.json\n",
      "Updated file: /home/moovz/code/Mestrado/output/results/MST/training_results_20251009_032334.json\n"
     ]
    }
   ],
   "source": [
    "# now get all the subfolders inside output/results and iterate throught them. For each one of them look for all .json files and for each one of them, read them, add a field \"QB_LINK\" equals to false and write them back to the same file. When saving, save it as a json file and keep the document formatted\n",
    "\n",
    "for root, dirs, files in os.walk(output_dir):\n",
    "    print('Root:', root)\n",
    "    print('Dirs:', dirs)\n",
    "    print('Files:', files)\n",
    "    for dir in dirs:\n",
    "        print('Dir:', dir)\n",
    "        json_files = [f for f in os.listdir(os.path.join(root, dir)) if f.endswith(\".json\")]\n",
    "        for file in json_files:\n",
    "            print('File:', file)\n",
    "            file_path = os.path.join(root, dir, file)\n",
    "            print('Processing file:', file_path)\n",
    "            with open(file_path, 'r') as f:\n",
    "                data = f.read()\n",
    "            data_json = json.loads(data)\n",
    "            data_json['QB_LINK'] = False\n",
    "            # with open(file_path, 'w') as f:\n",
    "            #     json.dump(data_json, f, indent=4)\n",
    "            print('Updated file:', file_path)\n",
    "            break\n",
    "        break\n",
    "    break"
   ]
  }
 ],
 "metadata": {
  "kernelspec": {
   "display_name": "venv (3.12.3)",
   "language": "python",
   "name": "python3"
  },
  "language_info": {
   "codemirror_mode": {
    "name": "ipython",
    "version": 3
   },
   "file_extension": ".py",
   "mimetype": "text/x-python",
   "name": "python",
   "nbconvert_exporter": "python",
   "pygments_lexer": "ipython3",
   "version": "3.12.3"
  }
 },
 "nbformat": 4,
 "nbformat_minor": 5
}
